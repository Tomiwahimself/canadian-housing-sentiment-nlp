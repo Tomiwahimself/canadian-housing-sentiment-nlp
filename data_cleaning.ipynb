{
 "cells": [
  {
   "cell_type": "code",
   "execution_count": 1,
   "id": "891c298f",
   "metadata": {},
   "outputs": [],
   "source": [
    "import pandas as pd\n",
    "import re\n",
    "from datetime import datetime"
   ]
  },
  {
   "cell_type": "code",
   "execution_count": 2,
   "id": "a3d44ce9",
   "metadata": {},
   "outputs": [],
   "source": [
    "reddit_df = pd.read_csv(\"/Users/tomiwa/Downloads/canadian_housing_reddit_combined.csv\")"
   ]
  },
  {
   "cell_type": "code",
   "execution_count": 3,
   "id": "84dbd8a5",
   "metadata": {},
   "outputs": [],
   "source": [
    "reddit_df['text'] = reddit_df['title'].fillna('') + ' ' + reddit_df['selftext'].fillna('')"
   ]
  },
  {
   "cell_type": "code",
   "execution_count": 4,
   "id": "f8da4f1c",
   "metadata": {},
   "outputs": [
    {
     "name": "stderr",
     "output_type": "stream",
     "text": [
      "/var/folders/1v/t2nqbf2170s4f9z_0swmfcw00000gn/T/ipykernel_21211/2063767631.py:1: UserWarning: Could not infer format, so each element will be parsed individually, falling back to `dateutil`. To ensure parsing is consistent and as-expected, please specify a format.\n",
      "  reddit_df['date'] = pd.to_datetime(reddit_df['created_utc'], errors='coerce')\n"
     ]
    }
   ],
   "source": [
    "reddit_df['date'] = pd.to_datetime(reddit_df['created_utc'], errors='coerce')"
   ]
  },
  {
   "cell_type": "code",
   "execution_count": null,
   "id": "2dc14642",
   "metadata": {},
   "outputs": [],
   "source": [
    "def clean_text(text):\n",
    "    text = re.sub(r\"http\\S+\", \"\", text)        # Removing URLs\n",
    "    text = re.sub(r\"@\\w+\", \"\", text)           # Removing mentions\n",
    "    text = re.sub(r\"#\\w+\", \"\", text)           # Removing hashtags\n",
    "    text = re.sub(r\"[^a-zA-Z0-9\\s]\", \"\", text) # Removing special characters\n",
    "    text = re.sub(r\"\\s+\", \" \", text).strip()   # Removing extra whitespace\n",
    "    return text.lower()                        # converting to lowercase\n",
    "\n"
   ]
  },
  {
   "cell_type": "code",
   "execution_count": null,
   "id": "9e822025",
   "metadata": {},
   "outputs": [],
   "source": [
    "reddit_df['cleaned_text'] = reddit_df['text'].apply(clean_text)"
   ]
  },
  {
   "cell_type": "code",
   "execution_count": null,
   "id": "d0331988",
   "metadata": {},
   "outputs": [
    {
     "name": "stderr",
     "output_type": "stream",
     "text": [
      "/var/folders/1v/t2nqbf2170s4f9z_0swmfcw00000gn/T/ipykernel_21211/50644550.py:2: SettingWithCopyWarning: \n",
      "A value is trying to be set on a copy of a slice from a DataFrame.\n",
      "Try using .loc[row_indexer,col_indexer] = value instead\n",
      "\n",
      "See the caveats in the documentation: https://pandas.pydata.org/pandas-docs/stable/user_guide/indexing.html#returning-a-view-versus-a-copy\n",
      "  reddit_cleaned['source'] = 'reddit'\n"
     ]
    }
   ],
   "source": [
    "reddit_cleaned = reddit_df[['date', 'cleaned_text', 'score', 'url']] # Selecting relevant columns\n",
    "reddit_cleaned['source'] = 'reddit' # Adding source column\n",
    "reddit_cleaned = reddit_cleaned[['source', 'date', 'cleaned_text', 'score', 'url']] # Reordering columns"
   ]
  },
  {
   "cell_type": "code",
   "execution_count": null,
   "id": "4422e6d7",
   "metadata": {},
   "outputs": [],
   "source": [
    "reddit_cleaned.to_csv(\"/Users/tomiwa/Downloads/Reddit_housing_comment_cleaned.csv\", index=False) "
   ]
  },
  {
   "cell_type": "code",
   "execution_count": null,
   "id": "fb5f4a0f",
   "metadata": {},
   "outputs": [],
   "source": [
    "file_path = \"/Users/tomiwa/Downloads/Reddit_housing_comment_cleaned.csv\" \n",
    "reddit_cleaned_df = pd.read_csv(file_path)"
   ]
  },
  {
   "cell_type": "code",
   "execution_count": 11,
   "id": "bd31afe4",
   "metadata": {},
   "outputs": [
    {
     "data": {
      "text/html": [
       "<div>\n",
       "<style scoped>\n",
       "    .dataframe tbody tr th:only-of-type {\n",
       "        vertical-align: middle;\n",
       "    }\n",
       "\n",
       "    .dataframe tbody tr th {\n",
       "        vertical-align: top;\n",
       "    }\n",
       "\n",
       "    .dataframe thead th {\n",
       "        text-align: right;\n",
       "    }\n",
       "</style>\n",
       "<table border=\"1\" class=\"dataframe\">\n",
       "  <thead>\n",
       "    <tr style=\"text-align: right;\">\n",
       "      <th></th>\n",
       "      <th>source</th>\n",
       "      <th>date</th>\n",
       "      <th>cleaned_text</th>\n",
       "      <th>score</th>\n",
       "      <th>url</th>\n",
       "    </tr>\n",
       "  </thead>\n",
       "  <tbody>\n",
       "    <tr>\n",
       "      <th>0</th>\n",
       "      <td>reddit</td>\n",
       "      <td>2021-07-08 20:21:10</td>\n",
       "      <td>jagmeet singhs plan invest in building 500000 ...</td>\n",
       "      <td>1842</td>\n",
       "      <td>https://www.reddit.com/r/canadahousing/comment...</td>\n",
       "    </tr>\n",
       "    <tr>\n",
       "      <th>1</th>\n",
       "      <td>reddit</td>\n",
       "      <td>2024-12-14 09:36:37</td>\n",
       "      <td>canada economy in decline trying to save housi...</td>\n",
       "      <td>203</td>\n",
       "      <td>https://www.reddit.com/r/canadahousing/comment...</td>\n",
       "    </tr>\n",
       "    <tr>\n",
       "      <th>2</th>\n",
       "      <td>reddit</td>\n",
       "      <td>2023-07-20 15:58:58</td>\n",
       "      <td>unpopular opinion housing should not be an inv...</td>\n",
       "      <td>504</td>\n",
       "      <td>https://www.reddit.com/r/canadahousing/comment...</td>\n",
       "    </tr>\n",
       "    <tr>\n",
       "      <th>3</th>\n",
       "      <td>reddit</td>\n",
       "      <td>2021-06-20 13:47:06</td>\n",
       "      <td>people really arent angry enough about economi...</td>\n",
       "      <td>782</td>\n",
       "      <td>https://www.reddit.com/r/canadahousing/comment...</td>\n",
       "    </tr>\n",
       "    <tr>\n",
       "      <th>4</th>\n",
       "      <td>reddit</td>\n",
       "      <td>2025-01-16 06:28:14</td>\n",
       "      <td>why you should care about housing affordabilit...</td>\n",
       "      <td>191</td>\n",
       "      <td>https://www.reddit.com/r/canadahousing/comment...</td>\n",
       "    </tr>\n",
       "  </tbody>\n",
       "</table>\n",
       "</div>"
      ],
      "text/plain": [
       "   source                 date  \\\n",
       "0  reddit  2021-07-08 20:21:10   \n",
       "1  reddit  2024-12-14 09:36:37   \n",
       "2  reddit  2023-07-20 15:58:58   \n",
       "3  reddit  2021-06-20 13:47:06   \n",
       "4  reddit  2025-01-16 06:28:14   \n",
       "\n",
       "                                        cleaned_text  score  \\\n",
       "0  jagmeet singhs plan invest in building 500000 ...   1842   \n",
       "1  canada economy in decline trying to save housi...    203   \n",
       "2  unpopular opinion housing should not be an inv...    504   \n",
       "3  people really arent angry enough about economi...    782   \n",
       "4  why you should care about housing affordabilit...    191   \n",
       "\n",
       "                                                 url  \n",
       "0  https://www.reddit.com/r/canadahousing/comment...  \n",
       "1  https://www.reddit.com/r/canadahousing/comment...  \n",
       "2  https://www.reddit.com/r/canadahousing/comment...  \n",
       "3  https://www.reddit.com/r/canadahousing/comment...  \n",
       "4  https://www.reddit.com/r/canadahousing/comment...  "
      ]
     },
     "execution_count": 11,
     "metadata": {},
     "output_type": "execute_result"
    }
   ],
   "source": [
    "reddit_cleaned_df.head()"
   ]
  },
  {
   "cell_type": "code",
   "execution_count": null,
   "id": "ae43208e",
   "metadata": {},
   "outputs": [
    {
     "data": {
      "text/plain": [
       "Index(['source', 'date', 'cleaned_text', 'score', 'url'], dtype='object')"
      ]
     },
     "execution_count": 12,
     "metadata": {},
     "output_type": "execute_result"
    }
   ],
   "source": [
    "reddit_cleaned_df.shape  \n",
    "reddit_cleaned_df.columns  "
   ]
  },
  {
   "cell_type": "code",
   "execution_count": 13,
   "id": "893f1013",
   "metadata": {},
   "outputs": [
    {
     "data": {
      "text/plain": [
       "source          0\n",
       "date            0\n",
       "cleaned_text    0\n",
       "score           0\n",
       "url             0\n",
       "dtype: int64"
      ]
     },
     "execution_count": 13,
     "metadata": {},
     "output_type": "execute_result"
    }
   ],
   "source": [
    "reddit_cleaned_df.isnull().sum()"
   ]
  }
 ],
 "metadata": {
  "kernelspec": {
   "display_name": "base",
   "language": "python",
   "name": "python3"
  },
  "language_info": {
   "codemirror_mode": {
    "name": "ipython",
    "version": 3
   },
   "file_extension": ".py",
   "mimetype": "text/x-python",
   "name": "python",
   "nbconvert_exporter": "python",
   "pygments_lexer": "ipython3",
   "version": "3.12.7"
  }
 },
 "nbformat": 4,
 "nbformat_minor": 5
}
